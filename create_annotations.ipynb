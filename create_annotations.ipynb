{
 "cells": [
  {
   "cell_type": "code",
   "execution_count": 2,
   "metadata": {},
   "outputs": [],
   "source": [
    "import json\n",
    "from pathlib import Path"
   ]
  },
  {
   "cell_type": "code",
   "execution_count": 3,
   "metadata": {},
   "outputs": [],
   "source": [
    "cat_file = \"UCF_101_action_classes_list_unix.txt\"\n",
    "train_file = \"trainlist01u.txt\"\n",
    "test_file =  \"testlist01u.txt\""
   ]
  },
  {
   "cell_type": "code",
   "execution_count": 26,
   "metadata": {
    "tags": []
   },
   "outputs": [],
   "source": [
    "cat_mapping = {}\n",
    "with open(cat_file,\"r\") as fp:\n",
    "    for line in fp:\n",
    "        number,cat = line.split()\n",
    "        cat_mapping[int(number)-1]=cat\n",
    "\n",
    "rev_cat_mapping = {v:k for k,v in cat_mapping.items()}"
   ]
  },
  {
   "cell_type": "code",
   "execution_count": 37,
   "metadata": {
    "tags": []
   },
   "outputs": [],
   "source": [
    "train_annotations = {}\n",
    "train_annotations[\"categories\"] = list(cat_mapping.values())\n",
    "train_annotations[\"annotations\"] = {} \n",
    "with open(train_file,\"r\") as fp:\n",
    "    for line in fp:\n",
    "        loc,number = line.split()\n",
    "        loc = Path(loc)\n",
    "        number = int(number)-1\n",
    "        # parent folder is the category name\n",
    "        assert rev_cat_mapping[str(loc.parent)] == number\n",
    "        # file name might be in .avi so just take the stem\n",
    "        file_name = f\"{str(loc.stem)}.mp4\"\n",
    "        train_annotations[\"annotations\"].update({\n",
    "            file_name:{\n",
    "            \"category_id\":number\n",
    "            }\n",
    "        })\n",
    "\n",
    "with open(\"train_annotations.json\",\"w\") as fp:\n",
    "    json.dump(train_annotations,fp,indent=4)"
   ]
  },
  {
   "cell_type": "code",
   "execution_count": 41,
   "metadata": {},
   "outputs": [],
   "source": [
    "test_annotations = {}\n",
    "test_annotations[\"categories\"] = list(cat_mapping.values())\n",
    "test_annotations[\"annotations\"] = {} \n",
    "with open(test_file,\"r\") as fp:\n",
    "    for line in fp:\n",
    "        loc = Path(line.strip())\n",
    "        # parent folder is the category name    \n",
    "        number = rev_cat_mapping[str(loc.parent)]\n",
    "        # file name might be in .avi so just take the stem\n",
    "        file_name = f\"{str(loc.stem)}.mp4\"\n",
    "        test_annotations[\"annotations\"].update({\n",
    "            file_name:{\n",
    "            \"category_id\":number\n",
    "            }\n",
    "        })\n",
    "\n",
    "with open(\"test_annotations.json\",\"w\") as fp:\n",
    "    json.dump(test_annotations,fp,indent=4)"
   ]
  }
 ],
 "metadata": {
  "language_info": {
   "codemirror_mode": {
    "name": "ipython",
    "version": 3
   },
   "file_extension": ".py",
   "mimetype": "text/x-python",
   "name": "python",
   "nbconvert_exporter": "python",
   "pygments_lexer": "ipython3",
   "version": 3
  },
  "orig_nbformat": 2,
  "kernelspec": {
   "name": "python_defaultSpec_1593253508608",
   "display_name": "Python 3.7.6 64-bit ('wiki': conda)"
  }
 },
 "nbformat": 4,
 "nbformat_minor": 2
}